{
 "cells": [
  {
   "cell_type": "code",
   "execution_count": 1,
   "id": "47c972b1-2332-4759-83df-274233289989",
   "metadata": {
    "tags": []
   },
   "outputs": [
    {
     "name": "stdout",
     "output_type": "stream",
     "text": [
      "measurement results: Counter({'00': 429, '11': 406, '01': 94, '10': 71})\n"
     ]
    }
   ],
   "source": [
    "from braket.tracking import Tracker\n",
    "from braket.aws import AwsDevice\n",
    "from braket.circuits import Circuit, gates, noises, observables\n",
    "from braket.devices import LocalSimulator\n",
    "from braket.parametric import FreeParameter\n",
    "import numpy as np\n",
    "from scipy.stats import unitary_group\n",
    "\n",
    "\n",
    "t = Tracker().start()\n",
    "\n",
    "# build a simple circuit\n",
    "circ = Circuit().h(0).cnot(0,1)\n",
    "\n",
    "# define a noise channel\n",
    "noise = noises.BitFlip(probability=0.1)\n",
    "\n",
    "# add noise to every gate in the circuit\n",
    "circ.apply_gate_noise(noise)\n",
    "\n",
    "# select the local noise simulator\n",
    "device = LocalSimulator('braket_dm')\n",
    "\n",
    "# run the circuit on the local simulator\n",
    "task = device.run(circ, shots = 1000)\n",
    "\n",
    "# visualize the results\n",
    "result = task.result()\n",
    "measurement = result.measurement_counts\n",
    "print('measurement results:', measurement)"
   ]
  },
  {
   "cell_type": "code",
   "execution_count": 4,
   "id": "a7f06d75-bd64-45a3-bfab-ce3449add496",
   "metadata": {},
   "outputs": [
    {
     "name": "stdout",
     "output_type": "stream",
     "text": [
      "measurement results: Counter({'0010111111111': 1, '1011111100101': 1, '1111000000000': 1, '1110111111111': 1, '0000001100000': 1, '1111011011111': 1, '0000000011111': 1, '0010000100000': 1, '0000000000000': 1, '0111111111111': 1})\n"
     ]
    }
   ],
   "source": [
    "def ghz_circuit(n_qubits: int) -> Circuit:\n",
    "    \"\"\"\n",
    "    Function to return simple GHZ circuit ansatz. Assumes all qubits in range(0, n_qubits-1)\n",
    "    are entangled.\n",
    "    \"\"\"\n",
    "    circuit = Circuit().h(0)                        \n",
    "\n",
    "    for ii in range(0, n_qubits-1):\n",
    "        circuit.cnot(control=ii, target=ii+1)  \n",
    "    return circuit\n",
    "\n",
    "# build a 13-qubit GHZ circuit\n",
    "circ = ghz_circuit(13)\n",
    "\n",
    "# define a noise channel\n",
    "noise = noises.Depolarizing(probability=0.1)\n",
    "\n",
    "# add noise to every gate in the circuit\n",
    "circ.apply_gate_noise(noise)\n",
    "\n",
    "# select the on-demand density matrix simulator DM1\n",
    "device = AwsDevice(\"arn:aws:braket:::device/quantum-simulator/amazon/dm1\")\n",
    "\n",
    "# run the circuit on DM1\n",
    "task = device.run(circ, shots = 10)\n",
    "\n",
    "# visualize the results\n",
    "result = task.result()\n",
    "measurement = result.measurement_counts\n",
    "print('measurement results:', measurement)"
   ]
  },
  {
   "cell_type": "code",
   "execution_count": null,
   "id": "58f11ef5-6f68-4129-ba84-49dc8d8202ca",
   "metadata": {},
   "outputs": [],
   "source": [
    "#noise models \n",
    "# define a two-qubit dephasing noise channel\n",
    "noise = noises.TwoQubitDephasing(probability=0.1)\n",
    "\n"
   ]
  },
  {
   "cell_type": "code",
   "execution_count": 1,
   "id": "46fc4347-b388-4319-ba2e-20cfc2cdd3aa",
   "metadata": {
    "tags": []
   },
   "outputs": [
    {
     "ename": "NameError",
     "evalue": "name 'Circuit' is not defined",
     "output_type": "error",
     "traceback": [
      "\u001b[0;31m---------------------------------------------------------------------------\u001b[0m",
      "\u001b[0;31mNameError\u001b[0m                                 Traceback (most recent call last)",
      "Cell \u001b[0;32mIn[1], line 1\u001b[0m\n\u001b[0;32m----> 1\u001b[0m bell \u001b[38;5;241m=\u001b[39m \u001b[43mCircuit\u001b[49m()\u001b[38;5;241m.\u001b[39mcnot(\u001b[38;5;241m0\u001b[39m, \u001b[38;5;241m1\u001b[39m)\u001b[38;5;241m.\u001b[39mcnot(\u001b[38;5;241m0\u001b[39m, \u001b[38;5;241m1\u001b[39m)\u001b[38;5;241m.\u001b[39mcnot(\u001b[38;5;241m0\u001b[39m,\u001b[38;5;241m2\u001b[39m)\u001b[38;5;241m.\u001b[39mcnot(\u001b[38;5;241m0\u001b[39m, \u001b[38;5;241m2\u001b[39m)\u001b[38;5;241m.\u001b[39mcnot(\u001b[38;5;241m1\u001b[39m, \u001b[38;5;241m2\u001b[39m)\u001b[38;5;241m.\u001b[39mcnot(\u001b[38;5;241m0\u001b[39m,\u001b[38;5;241m3\u001b[39m)\u001b[38;5;241m.\u001b[39mcnot(\u001b[38;5;241m1\u001b[39m, \u001b[38;5;241m2\u001b[39m)\u001b[38;5;241m.\u001b[39mcnot(\u001b[38;5;241m0\u001b[39m, \u001b[38;5;241m3\u001b[39m)\u001b[38;5;241m.\u001b[39mcnot(\u001b[38;5;241m1\u001b[39m,\u001b[38;5;241m3\u001b[39m)\u001b[38;5;241m.\u001b[39mcnot(\u001b[38;5;241m1\u001b[39m, \u001b[38;5;241m3\u001b[39m)\u001b[38;5;241m.\u001b[39mcnot(\u001b[38;5;241m2\u001b[39m,\u001b[38;5;241m3\u001b[39m)\u001b[38;5;241m.\u001b[39mcnot(\u001b[38;5;241m2\u001b[39m,\u001b[38;5;241m3\u001b[39m)\n\u001b[1;32m      2\u001b[0m \u001b[38;5;66;03m#bell = Circuit().cnot(0, 1).cnot(4, 3).cnot(0,1).cnot(2, 3)\u001b[39;00m\n\u001b[1;32m      3\u001b[0m inst_list \u001b[38;5;241m=\u001b[39m bell\u001b[38;5;241m.\u001b[39minstructions\n",
      "\u001b[0;31mNameError\u001b[0m: name 'Circuit' is not defined"
     ]
    }
   ],
   "source": [
    "\n",
    "bell = Circuit().cnot(0, 1).cnot(0, 1).cnot(0,2).cnot(0, 2).cnot(1, 2).cnot(0,3).cnot(1, 2).cnot(0, 3).cnot(1,3).cnot(1, 3).cnot(2,3).cnot(2,3)\n",
    "#bell = Circuit().cnot(0, 1).cnot(4, 3).cnot(0,1).cnot(2, 3)\n",
    "inst_list = bell.instructions\n",
    "\n",
    "GateSet = {}\n",
    "\n",
    "tempArray = []\n",
    "temp = 0\n",
    "distance = 1\n",
    "cnot_count = 0\n",
    "cnot_count_prev = -1\n",
    "cycle_num = 0\n",
    "\n",
    "\n",
    "#might need a get function for getting the CNOT gates\n",
    "for instruction in inst_list:\n",
    "    \n",
    "    # try:\n",
    "    if temp == 1:\n",
    "        if str(prevInstruction.operator) != \"CNot('qubit_count': 2)\":\n",
    "            if cnot_count != 0:\n",
    "                cnot_count+=1\n",
    "                \n",
    "\n",
    "        else:\n",
    "            \n",
    "            temp2 = 0\n",
    "            for i in range(cnot_count, cnot_count+distance):\n",
    "               \n",
    "                for j in inst_list[i].target:\n",
    "                    for k in instruction.target:\n",
    "                        \n",
    "                        if k == j and temp2 == 0:\n",
    "                            \n",
    "                            cnot_count+=1\n",
    "                            temp2 = 1\n",
    "                            \n",
    "                            \n",
    "        \n",
    "            \n",
    "            # for i in prevInstruction.target:\n",
    "            #     for j in instruction.target:\n",
    "            #         if i == j:\n",
    "            #             cnot_count+=1\n",
    "        \n",
    "    if str(instruction.operator) == \"CNot('qubit_count': 2)\":\n",
    "\n",
    "        key = cnot_count\n",
    "        \n",
    "        if cnot_count == cnot_count_prev:\n",
    "            \n",
    "            tempArray.append(instruction.target)\n",
    "            distance+=1   \n",
    "        else:\n",
    "            \n",
    "            tempArray = []\n",
    "            tempArray.append(instruction.target)\n",
    "            if distance > 1:\n",
    "                cnot_count+=1\n",
    "                \n",
    "                \n",
    "            distance = 1\n",
    "           \n",
    "            \n",
    "            \n",
    "            \n",
    "    #NEW\n",
    "    # else:\n",
    "        # key = f'GateSet{cnot_count}'\n",
    "        # tempArray = []\n",
    "        # tempArray.append(instruction.target)\n",
    "        # GateSet[key] = tempArray\n",
    "    #NEW_END\n",
    "    \n",
    "    prevInstruction = instruction\n",
    "    temp = 1\n",
    "    GateSet[key] = tempArray\n",
    "    cnot_count_prev = cnot_count\n",
    "    \n",
    "\n",
    "print(GateSet)"
   ]
  },
  {
   "cell_type": "code",
   "execution_count": 22,
   "id": "34e20239-4ce5-474f-bb07-607eae5146e7",
   "metadata": {},
   "outputs": [
    {
     "name": "stdout",
     "output_type": "stream",
     "text": [
      "Qubit(0)\n",
      "Qubit(1)\n",
      "Qubit(4)\n",
      "Qubit(3)\n",
      "Qubit(0)\n",
      "Qubit(1)\n",
      "Qubit(4)\n",
      "Qubit(3)\n",
      "Qubit(0)\n",
      "Qubit(1)\n",
      "Qubit(2)\n",
      "Qubit(3)\n"
     ]
    }
   ],
   "source": [
    "IL = [[], []]\n",
    "for gateSet in GateSet:\n",
    "    # print(gateSet)\n",
    "    temp = GateSet[gateSet]\n",
    "    for set in temp:\n",
    "        for qbit in set:\n",
    "            print(qbit)\n",
    "            \n",
    "        \n",
    "\n",
    "        \n",
    "    "
   ]
  },
  {
   "cell_type": "code",
   "execution_count": 8,
   "id": "0df4d882-c06c-43ee-8739-1bec70b2e1d5",
   "metadata": {},
   "outputs": [
    {
     "name": "stdout",
     "output_type": "stream",
     "text": [
      "{'GateSet3': [QubitSet([Qubit(0), Qubit(1)]), QubitSet([Qubit(4), Qubit(3)]), QubitSet([Qubit(0), Qubit(1)]), QubitSet([Qubit(2), Qubit(3)])]}\n"
     ]
    }
   ],
   "source": [
    "\n"
   ]
  },
  {
   "cell_type": "code",
   "execution_count": null,
   "id": "d33135c5-5070-47f4-878f-53122ed3cbba",
   "metadata": {},
   "outputs": [],
   "source": []
  }
 ],
 "metadata": {
  "kernelspec": {
   "display_name": "Python 3 [Default]",
   "language": "python",
   "name": "python3"
  },
  "language_info": {
   "codemirror_mode": {
    "name": "ipython",
    "version": 3
   },
   "file_extension": ".py",
   "mimetype": "text/x-python",
   "name": "python",
   "nbconvert_exporter": "python",
   "pygments_lexer": "ipython3",
   "version": "3.11.7"
  }
 },
 "nbformat": 4,
 "nbformat_minor": 5
}
