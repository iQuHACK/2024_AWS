{
 "cells": [
  {
   "cell_type": "code",
   "execution_count": 2,
   "id": "94da5146-f3ef-484d-a4ca-85b77c35ae7e",
   "metadata": {
    "tags": []
   },
   "outputs": [
    {
     "ename": "ModuleNotFoundError",
     "evalue": "No module named 'braket'",
     "output_type": "error",
     "traceback": [
      "\u001b[0;31m---------------------------------------------------------------------------\u001b[0m",
      "\u001b[0;31mModuleNotFoundError\u001b[0m                       Traceback (most recent call last)",
      "Cell \u001b[0;32mIn[2], line 1\u001b[0m\n\u001b[0;32m----> 1\u001b[0m \u001b[38;5;28;01mfrom\u001b[39;00m \u001b[38;5;21;01mbraket\u001b[39;00m \u001b[38;5;28;01mimport\u001b[39;00m Circuit\n\u001b[1;32m      2\u001b[0m circ \u001b[38;5;241m=\u001b[39m Circuit([Instruction(Gate\u001b[38;5;241m.\u001b[39mH(), \u001b[38;5;241m4\u001b[39m), Instruction(Gate\u001b[38;5;241m.\u001b[39mCNot(), [\u001b[38;5;241m4\u001b[39m, \u001b[38;5;241m5\u001b[39m])])\n\u001b[1;32m      3\u001b[0m inst_list \u001b[38;5;241m=\u001b[39m circ\u001b[38;5;241m.\u001b[39minstructions\n",
      "\u001b[0;31mModuleNotFoundError\u001b[0m: No module named 'braket'"
     ]
    }
   ],
   "source": [
    "from braket.tracking import Tracker\n",
    "from braket.aws import AwsDevice\n",
    "from braket.circuits import Circuit, gates, noises, observables\n",
    "from braket.devices import LocalSimulator\n",
    "from braket.parametric import FreeParameter\n",
    "import numpy as np\n",
    "from scipy.stats import unitary_group\n",
    "circ = Circuit([Instruction(Gate.H(), 4), Instruction(Gate.CNot(), [4, 5])])\n",
    "inst_list = circ.instructions\n",
    "print(inst_list)"
   ]
  },
  {
   "cell_type": "code",
   "execution_count": null,
   "id": "02f2c830-b6bb-4f2f-9b15-59dc5d90a1df",
   "metadata": {},
   "outputs": [],
   "source": []
  }
 ],
 "metadata": {
  "kernelspec": {
   "display_name": "Python 3 [IonQ]",
   "language": "python",
   "name": "python3_ionq_6vdluz"
  },
  "language_info": {
   "codemirror_mode": {
    "name": "ipython",
    "version": 3
   },
   "file_extension": ".py",
   "mimetype": "text/x-python",
   "name": "python",
   "nbconvert_exporter": "python",
   "pygments_lexer": "ipython3",
   "version": "3.9.18"
  }
 },
 "nbformat": 4,
 "nbformat_minor": 5
}
